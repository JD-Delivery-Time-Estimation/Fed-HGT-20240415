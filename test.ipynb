{
 "cells": [
  {
   "cell_type": "code",
   "execution_count": null,
   "metadata": {},
   "outputs": [],
   "source": [
    "from FedRole.Coordinator import *\n",
    "torch.manual_seed(11324)\n",
    "coordinator = Coordinator(\n",
    "                device='cuda:0',\n",
    "                beta=0.1,\n",
    "                time_size=240,\n",
    "                log_basepath = 'Log/',\n",
    "                hidden_size = 32,\n",
    "                num_heads = 4,\n",
    "                num_layers = 2,\n",
    "                num_warehouse = 30,\n",
    "                num_sortingcenter = 44\n",
    "                )\n"
   ]
  },
  {
   "cell_type": "code",
   "execution_count": null,
   "metadata": {},
   "outputs": [],
   "source": [
    "import os\n",
    "for i in os.listdir('Log/2024_01_08_21_52_19/Model'):\n",
    "    print(i)\n",
    "    coordinator.load_parameters('Log/2024_01_08_21_52_19/Model/'+i)\n",
    "    test_epoch = i.split('_')[0]\n",
    "    coordinator.load_gru_hiddens('Log/2024_01_08_21_52_19/gru_hidden/{}/'.format(test_epoch))\n",
    "    coordinator.test()"
   ]
  },
  {
   "cell_type": "code",
   "execution_count": null,
   "metadata": {},
   "outputs": [],
   "source": []
  },
  {
   "cell_type": "code",
   "execution_count": null,
   "metadata": {},
   "outputs": [],
   "source": []
  }
 ],
 "metadata": {
  "kernelspec": {
   "display_name": "fedhgt",
   "language": "python",
   "name": "python3"
  },
  "language_info": {
   "codemirror_mode": {
    "name": "ipython",
    "version": 3
   },
   "file_extension": ".py",
   "mimetype": "text/x-python",
   "name": "python",
   "nbconvert_exporter": "python",
   "pygments_lexer": "ipython3",
   "version": "3.9.16"
  }
 },
 "nbformat": 4,
 "nbformat_minor": 2
}
