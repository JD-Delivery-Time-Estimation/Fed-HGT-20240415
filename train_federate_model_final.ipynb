{
 "cells": [
  {
   "cell_type": "code",
   "execution_count": null,
   "metadata": {},
   "outputs": [],
   "source": [
    "from FedRole.Coordinator import *\n",
    "torch.manual_seed(11324)\n",
    "coordinator = Coordinator(\n",
    "                device='cuda:0',\n",
    "                beta=0.1,\n",
    "                time_size=240,\n",
    "                log_basepath = 'Log/',\n",
    "                hidden_size = 32,\n",
    "                num_heads = 4,\n",
    "                num_layers = 2,\n",
    "                num_warehouse = 30,\n",
    "                num_sortingcenter = 44\n",
    "                )\n"
   ]
  },
  {
   "cell_type": "code",
   "execution_count": null,
   "metadata": {},
   "outputs": [],
   "source": [
    "EPOCHS  = 10000\n",
    "for i in range(EPOCHS):\n",
    "    coordinator.train_epoch(i)"
   ]
  },
  {
   "cell_type": "code",
   "execution_count": null,
   "metadata": {},
   "outputs": [],
   "source": []
  }
 ],
 "metadata": {
  "kernelspec": {
   "display_name": "fedhgt",
   "language": "python",
   "name": "python3"
  },
  "language_info": {
   "codemirror_mode": {
    "name": "ipython",
    "version": 3
   },
   "file_extension": ".py",
   "mimetype": "text/x-python",
   "name": "python",
   "nbconvert_exporter": "python",
   "pygments_lexer": "ipython3",
   "version": "3.9.16"
  },
  "orig_nbformat": 4
 },
 "nbformat": 4,
 "nbformat_minor": 2
}
